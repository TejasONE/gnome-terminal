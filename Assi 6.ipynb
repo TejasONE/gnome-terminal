{
 "cells": [
  {
   "cell_type": "code",
   "execution_count": 1,
   "id": "0f4d00b9",
   "metadata": {},
   "outputs": [],
   "source": [
    "#Implement Artificial Neural Network training process in Python by using forward propagation, backpropagation."
   ]
  },
  {
   "cell_type": "code",
   "execution_count": 2,
   "id": "d063188a",
   "metadata": {},
   "outputs": [],
   "source": [
    "# error = target - output\n",
    "# delta = error * sig_derivative (output of that layer)\n",
    "# w = w + transpose_input @ that_layer_delta\n",
    "# b = b + sum of columns of delta of that layer"
   ]
  },
  {
   "cell_type": "code",
   "execution_count": 3,
   "id": "b8a38449",
   "metadata": {},
   "outputs": [],
   "source": [
    "import numpy as np "
   ]
  },
  {
   "cell_type": "code",
   "execution_count": 4,
   "id": "c8b84f25",
   "metadata": {},
   "outputs": [],
   "source": [
    "'''class NeuralNetwork:\n",
    "    def __init__(self, input_size, hidden_size, output_size): \n",
    "        self.W1 = np.random.randn(input_size, hidden_size) \n",
    "        self.b1 = np.zeros(hidden_size)\n",
    "        self.W2 = np.random.randn(hidden_size, output_size) \n",
    "        self.b2 = np.zeros(output_size)\n",
    " \n",
    "    def sigmoid(self, x):\n",
    "        return 1 / (1 + np.exp(-x))\n",
    "\n",
    "    def sigmoid_derivative(self, x): \n",
    "        return x * (1 - x)\n",
    "\n",
    "    def forward(self, X): \n",
    "        self.z1 = X @ self.W1 + self.b1 \n",
    "        self.a1 = self.sigmoid(self.z1)\n",
    "        self.z2 = self.a1 @ self.W2 + self.b2 \n",
    "        self.a2 = self.sigmoid(self.z2)\n",
    "        return self.a2    #send this activation as output\n",
    "\n",
    "    def backward(self, X, y, output): \n",
    "        self.output_error = y - output\n",
    "        self.output_delta = self.output_error * self.sigmoid_derivative(output) \n",
    "        self.hidden_error = self.output_delta @ self.W2.T\n",
    "        self.hidden_delta = self.hidden_error * self.sigmoid_derivative(self.a1) \n",
    "        self.W1 += X.T @ self.hidden_delta\n",
    "        self.b1 += np.sum(self.hidden_delta, axis=0)\n",
    "        self.W2 += self.a1.T @ self.output_delta\n",
    "        self.b2 += np.sum(self.output_delta, axis=0) \n",
    "        \n",
    "    def train(self, X, y, epochs): \n",
    "        for i in range(epochs):\n",
    "            output = self.forward(X)\n",
    "            self.backward(X, y, output) \n",
    "\n",
    "    def predict(self, X):\n",
    "        # Make predictions for a given set of inputs \n",
    "        return self.forward(X)\n",
    "'''"
   ]
  },
  {
   "cell_type": "code",
   "execution_count": 5,
   "id": "e41f0c2b",
   "metadata": {},
   "outputs": [
    {
     "name": "stdout",
     "output_type": "stream",
     "text": [
      "[[0.00550059]\n",
      " [0.98860992]\n",
      " [0.98968728]\n",
      " [0.01515813]]\n"
     ]
    }
   ],
   "source": [
    "'''# Define the input and output datasets\n",
    "X = np.array([[0, 0], [0, 1], [1, 0], [1, 1]])\n",
    "y = np.array([[0], [1], [1], [0]])\n",
    "\n",
    "# Create a neural network with 2 input neurons, 4 neurons in the hidden layer, and 1 output neuron\n",
    "nn = NeuralNetwork(2, 4, 1)\n",
    "\n",
    "# Train the neural network on the input and output datasets for 10000 epochs with a learning rate of 0.1\n",
    "nn.train(X, y, epochs=10000)\n",
    "\n",
    "# Use the trained neural network to make predictions on the same input dataset \n",
    "predictions = nn.predict(X)\n",
    "\n",
    "# Print the predictions \n",
    "print(predictions)''''''"
   ]
  },
  {
   "cell_type": "code",
   "execution_count": null,
   "id": "7276433f",
   "metadata": {},
   "outputs": [],
   "source": []
  },
  {
   "cell_type": "code",
   "execution_count": null,
   "id": "021945fe",
   "metadata": {},
   "outputs": [],
   "source": []
  },
  {
   "cell_type": "code",
   "execution_count": 4,
   "id": "3ab887ff",
   "metadata": {},
   "outputs": [],
   "source": [
    "import numpy as np"
   ]
  },
  {
   "cell_type": "code",
   "execution_count": 5,
   "id": "edd70b09",
   "metadata": {},
   "outputs": [],
   "source": [
    "class NeuralNetwork:\n",
    "    def __init__(self, input_size, hidden_size, output_size):\n",
    "        # Initialize weights and biases randomly\n",
    "        self.W1 = np.random.randn(input_size, hidden_size)\n",
    "        self.b1 = np.zeros((1, hidden_size))\n",
    "        self.W2 = np.random.randn(hidden_size, output_size)\n",
    "        self.b2 = np.zeros((1, output_size))\n",
    "\n",
    "    def sigmoid(self, x):\n",
    "        return 1 / (1 + np.exp(-x))\n",
    "\n",
    "    def forward(self, X):\n",
    "        # Forward propagation\n",
    "        self.z1 = np.dot(X, self.W1) + self.b1\n",
    "        self.a1 = self.sigmoid(self.z1)\n",
    "        self.z2 = np.dot(self.a1, self.W2) + self.b2\n",
    "        self.a2 = self.sigmoid(self.z2)\n",
    "        return self.a2\n",
    "\n",
    "    def backward(self, X, y, output, learning_rate):\n",
    "        # Backward propagation\n",
    "        output_error = y - output\n",
    "        output_delta = output_error * output * (1 - output)\n",
    "        hidden_error = np.dot(output_delta, self.W2.T)\n",
    "        hidden_delta = hidden_error * self.a1 * (1 - self.a1)\n",
    "        # Update weights and biases\n",
    "        self.W1 += np.dot(X.T, hidden_delta) * learning_rate\n",
    "        self.b1 += np.sum(hidden_delta, axis=0) * learning_rate\n",
    "        self.W2 += np.dot(self.a1.T, output_delta) * learning_rate\n",
    "        self.b2 += np.sum(output_delta, axis=0) * learning_rate\n",
    "\n",
    "    def train(self, X, y, epochs, learning_rate):\n",
    "        for epoch in range(epochs):\n",
    "            output = self.forward(X)            # Forward propagation\n",
    "\n",
    "            self.backward(X, y, output, learning_rate)            # Backward propagation\n",
    "\n",
    "    def predict(self, X):\n",
    "        # Make predictions\n",
    "        return self.forward(X)"
   ]
  },
  {
   "cell_type": "code",
   "execution_count": 6,
   "id": "62ec5c8f",
   "metadata": {},
   "outputs": [
    {
     "name": "stdout",
     "output_type": "stream",
     "text": [
      "[[0.03298834]\n",
      " [0.95307184]\n",
      " [0.94337448]\n",
      " [0.06460578]]\n"
     ]
    }
   ],
   "source": [
    "# Define the input and output datasets\n",
    "X = np.array([[0, 0], [0, 1], [1, 0], [1, 1]])\n",
    "y = np.array([[0], [1], [1], [0]])\n",
    "\n",
    "# Create a neural network with 2 input neurons, 4 neurons in the hidden layer, and 1 output neuron\n",
    "nn = NeuralNetwork(input_size=2, hidden_size=4, output_size=1)\n",
    "\n",
    "# Train the neural network on the input and output datasets for 10000 epochs with a learning rate of 0.1\n",
    "nn.train(X, y, epochs=10000, learning_rate=0.1)\n",
    "\n",
    "# Use the trained neural network to make predictions on the same input dataset\n",
    "predictions = nn.predict(X)\n",
    "\n",
    "# Print the predictions\n",
    "print(predictions)"
   ]
  },
  {
   "cell_type": "code",
   "execution_count": null,
   "id": "3bbbbcb0",
   "metadata": {},
   "outputs": [],
   "source": []
  }
 ],
 "metadata": {
  "kernelspec": {
   "display_name": "Python 3 (ipykernel)",
   "language": "python",
   "name": "python3"
  },
  "language_info": {
   "codemirror_mode": {
    "name": "ipython",
    "version": 3
   },
   "file_extension": ".py",
   "mimetype": "text/x-python",
   "name": "python",
   "nbconvert_exporter": "python",
   "pygments_lexer": "ipython3",
   "version": "3.11.4"
  }
 },
 "nbformat": 4,
 "nbformat_minor": 5
}
