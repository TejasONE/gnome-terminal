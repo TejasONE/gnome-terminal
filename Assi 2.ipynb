{
 "cells": [
  {
   "cell_type": "code",
   "execution_count": 16,
   "id": "6b0cfd07",
   "metadata": {},
   "outputs": [],
   "source": [
    "# Generate ANDNOT function using McCulloch-Pitts neural net by a python program. "
   ]
  },
  {
   "cell_type": "code",
   "execution_count": 24,
   "id": "33253e19",
   "metadata": {},
   "outputs": [
    {
     "data": {
      "text/plain": [
       "'\\nx1 w1 x2 w2  (x1w1)  (x2w2)  (sum)  (T(1))  \\n0  1  0  -1    0       0       0      0\\n0  1  1  -1    0      -1      -1      0\\n1  1  0  -1    1       0       1      1\\n1  1  1  -1    1      -1       0      0\\n\\n\\nx1 x2        \\n0  0        1  w1\\n0  1       -1  w2\\n1  0\\n1  1\\n'"
      ]
     },
     "execution_count": 24,
     "metadata": {},
     "output_type": "execute_result"
    }
   ],
   "source": [
    "'''\n",
    "Expected AND NOT output :\n",
    "x1  x2  x2' output\n",
    "0   0   1    0\n",
    "0   1   0    0\n",
    "1   0   1    1\n",
    "1   1   0    0\n",
    "'''\n",
    "\n",
    "'''\n",
    "x1 w1 x2 w2  (x1w1)  (x2w2)  (sum)  (T(1))  \n",
    "0  1  0  -1    0       0       0      0\n",
    "0  1  1  -1    0      -1      -1      0\n",
    "1  1  0  -1    1       0       1      1\n",
    "1  1  1  -1    1      -1       0      0\n",
    "\n",
    "\n",
    "x1 x2        \n",
    "0  0        1  w1\n",
    "0  1       -1  w2\n",
    "1  0\n",
    "1  1\n",
    "'''"
   ]
  },
  {
   "cell_type": "code",
   "execution_count": 25,
   "id": "b65705ff",
   "metadata": {},
   "outputs": [],
   "source": [
    "import numpy as np"
   ]
  },
  {
   "cell_type": "code",
   "execution_count": 26,
   "id": "dc82da86",
   "metadata": {},
   "outputs": [],
   "source": [
    "# function of checking thresold value \n",
    "def linear_threshold_gate(dot, T):\n",
    "    if dot >= T:\n",
    "        return 1 \n",
    "    else:\n",
    "        return 0"
   ]
  },
  {
   "cell_type": "code",
   "execution_count": 27,
   "id": "d6fde31a",
   "metadata": {},
   "outputs": [],
   "source": [
    "# matrix of inputs \n",
    "input_table = np.array([\n",
    "    [0,0], # both no\n",
    "    [0,1], # one no, one yes \n",
    "    [1,0], # one yes, one no \n",
    "    [1,1]  # bot yes\n",
    "])\n",
    "\n",
    "weights = np.array([1,-1])\n",
    "T = 1"
   ]
  },
  {
   "cell_type": "code",
   "execution_count": 28,
   "id": "e69d0452",
   "metadata": {},
   "outputs": [],
   "source": [
    "dot_products_sum = input_table @ weights"
   ]
  },
  {
   "cell_type": "code",
   "execution_count": 29,
   "id": "903a40d7",
   "metadata": {},
   "outputs": [
    {
     "name": "stdout",
     "output_type": "stream",
     "text": [
      "input table:\n",
      "[[0 0]\n",
      " [0 1]\n",
      " [1 0]\n",
      " [1 1]]\n",
      "\n",
      "dot products:\n",
      "[ 0 -1  1  0]\n"
     ]
    }
   ],
   "source": [
    "print(f'input table:\\n{input_table}\\n')\n",
    "print(f'dot products:\\n{dot_products_sum}')"
   ]
  },
  {
   "cell_type": "code",
   "execution_count": 30,
   "id": "3e06acd7",
   "metadata": {},
   "outputs": [
    {
     "name": "stdout",
     "output_type": "stream",
     "text": [
      "Activation:0\n",
      "Activation:0\n",
      "Activation:1\n",
      "Activation:0\n"
     ]
    }
   ],
   "source": [
    "for i in range (0,4):\n",
    "    activation = linear_threshold_gate(dot_products_sum[i], T)\n",
    "    print(f'Activation:{activation}')"
   ]
  },
  {
   "cell_type": "code",
   "execution_count": null,
   "id": "d5be39c4",
   "metadata": {},
   "outputs": [],
   "source": []
  },
  {
   "cell_type": "code",
   "execution_count": null,
   "id": "dfca03b5",
   "metadata": {},
   "outputs": [],
   "source": []
  },
  {
   "cell_type": "code",
   "execution_count": null,
   "id": "93a00882",
   "metadata": {},
   "outputs": [],
   "source": []
  },
  {
   "cell_type": "code",
   "execution_count": null,
   "id": "5d8c291e",
   "metadata": {},
   "outputs": [],
   "source": []
  },
  {
   "cell_type": "code",
   "execution_count": 23,
   "id": "a05a5d6e",
   "metadata": {},
   "outputs": [],
   "source": [
    "import numpy as np"
   ]
  },
  {
   "cell_type": "code",
   "execution_count": 24,
   "id": "b5d9a800",
   "metadata": {},
   "outputs": [],
   "source": [
    "inputs = np.array([\n",
    "    [0,0],[0,1],[1,0],[1,1]\n",
    "])\n",
    "\n",
    "weight = [1,-1]\n",
    "\n",
    "T = 1"
   ]
  },
  {
   "cell_type": "code",
   "execution_count": 25,
   "id": "5ced7b58",
   "metadata": {},
   "outputs": [],
   "source": [
    "dot_product = inputs @ weight"
   ]
  },
  {
   "cell_type": "code",
   "execution_count": 26,
   "id": "4819e862",
   "metadata": {},
   "outputs": [
    {
     "name": "stdout",
     "output_type": "stream",
     "text": [
      "input table:\n",
      "[[0 0]\n",
      " [0 1]\n",
      " [1 0]\n",
      " [1 1]]\n",
      "\n",
      "dot products:\n",
      "[ 0 -1  1  0]\n"
     ]
    }
   ],
   "source": [
    "print(f'input table:\\n{inputs}\\n')\n",
    "print(f'dot products:\\n{dot_product}')"
   ]
  },
  {
   "cell_type": "code",
   "execution_count": 27,
   "id": "23d517e7",
   "metadata": {},
   "outputs": [],
   "source": [
    "def linear_threshold_gate(dot, T):\n",
    "    if dot >= T:\n",
    "        return 1\n",
    "    else:\n",
    "        return 0"
   ]
  },
  {
   "cell_type": "code",
   "execution_count": 30,
   "id": "3006588c",
   "metadata": {},
   "outputs": [
    {
     "name": "stdout",
     "output_type": "stream",
     "text": [
      "acctivation :  0\n",
      "acctivation :  0\n",
      "acctivation :  1\n",
      "acctivation :  0\n"
     ]
    }
   ],
   "source": [
    "for i in range(0,4):\n",
    "    #acctivation = linear_threshold_gate(dot_products[i], T)\n",
    "    print('acctivation : ', linear_threshold_gate(dot_product[i], T))"
   ]
  },
  {
   "cell_type": "code",
   "execution_count": null,
   "id": "e7ad3f47",
   "metadata": {},
   "outputs": [],
   "source": []
  },
  {
   "cell_type": "code",
   "execution_count": null,
   "id": "e27cf40e",
   "metadata": {},
   "outputs": [],
   "source": []
  },
  {
   "cell_type": "code",
   "execution_count": null,
   "id": "d439bb0c",
   "metadata": {},
   "outputs": [],
   "source": []
  },
  {
   "cell_type": "code",
   "execution_count": null,
   "id": "3bac80ca",
   "metadata": {},
   "outputs": [],
   "source": []
  },
  {
   "cell_type": "code",
   "execution_count": 19,
   "id": "4d8a78bf",
   "metadata": {},
   "outputs": [],
   "source": [
    "import numpy as np"
   ]
  },
  {
   "cell_type": "code",
   "execution_count": 20,
   "id": "2bb5bd5a",
   "metadata": {},
   "outputs": [],
   "source": [
    "inputs = np.array([\n",
    "    [0,0],\n",
    "    [0,1],\n",
    "    [1,0],\n",
    "    [1,1]\n",
    "])\n",
    "\n",
    "weights = np.array([1, -1])\n",
    "\n",
    "t = 1"
   ]
  },
  {
   "cell_type": "code",
   "execution_count": 21,
   "id": "e0b94cd9",
   "metadata": {},
   "outputs": [],
   "source": [
    "dot_product = inputs @ weights"
   ]
  },
  {
   "cell_type": "code",
   "execution_count": 22,
   "id": "961338de",
   "metadata": {},
   "outputs": [],
   "source": [
    "def linear_threshold_gate(dot_product,t):\n",
    "    if dot_product >= t:\n",
    "        return 1\n",
    "    else:\n",
    "        return 0"
   ]
  },
  {
   "cell_type": "code",
   "execution_count": 24,
   "id": "018530af",
   "metadata": {},
   "outputs": [
    {
     "name": "stdout",
     "output_type": "stream",
     "text": [
      "activation :  0\n",
      "activation :  0\n",
      "activation :  1\n",
      "activation :  0\n"
     ]
    }
   ],
   "source": [
    "for i in range(0,4):\n",
    "    print(\"activation : \",linear_threshold_gate(dot_product[i], t))"
   ]
  },
  {
   "cell_type": "code",
   "execution_count": null,
   "id": "be50c8d9",
   "metadata": {},
   "outputs": [],
   "source": []
  },
  {
   "cell_type": "code",
   "execution_count": null,
   "id": "02187588",
   "metadata": {},
   "outputs": [],
   "source": []
  }
 ],
 "metadata": {
  "kernelspec": {
   "display_name": "Python 3 (ipykernel)",
   "language": "python",
   "name": "python3"
  },
  "language_info": {
   "codemirror_mode": {
    "name": "ipython",
    "version": 3
   },
   "file_extension": ".py",
   "mimetype": "text/x-python",
   "name": "python",
   "nbconvert_exporter": "python",
   "pygments_lexer": "ipython3",
   "version": "3.11.4"
  }
 },
 "nbformat": 4,
 "nbformat_minor": 5
}
