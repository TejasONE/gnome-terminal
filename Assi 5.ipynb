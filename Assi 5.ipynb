{
 "cells": [
  {
   "cell_type": "code",
   "execution_count": 5,
   "id": "02164dfc",
   "metadata": {},
   "outputs": [],
   "source": [
    "# Write a python program for bidirectional associative memory with two pairs of vectors"
   ]
  },
  {
   "cell_type": "code",
   "execution_count": 5,
   "id": "d8d7e471",
   "metadata": {},
   "outputs": [
    {
     "name": "stdout",
     "output_type": "stream",
     "text": [
      "Input x:  [ 1 -1 -1 -1]\n",
      "Output y:  [ 1 -1]\n"
     ]
    }
   ],
   "source": [
    "import numpy as np\n",
    "\n",
    "# Define two pairs of vectors\n",
    "x1 = np.array([1, 1, -1, -1])\n",
    "x2 = np.array([-1, -1, 1, 1])\n",
    "\n",
    "y1 = np.array([1, -1])\n",
    "y2 = np.array([-1, 1])\n",
    "\n",
    "# Compute weight matrix W\n",
    "W = np.outer(y1, x1) + np.outer(y2, x2)     #(y1,x1) only , (x1,y1) will not work \n",
    "\n",
    "'''\n",
    "np.outer(a, b)\n",
    "a and b: These are 1-D arrays (vectors) whose outer product will be computed.\n",
    "'''\n",
    "\n",
    "# Define BAM function\n",
    "def bam(x):\n",
    "    y = np.sign(W @ x)\n",
    "    return y\n",
    "\n",
    "# Test BAM with inputs\n",
    "x_test = np.array([1, -1, -1, -1])\n",
    "y_test = bam(x_test)  # call\n",
    "\n",
    "# Print output\n",
    "print(\"Input x: \", x_test)\n",
    "print(\"Output y: \", y_test)\n"
   ]
  },
  {
   "cell_type": "raw",
   "id": "4db7563a",
   "metadata": {},
   "source": [
    "info : \n",
    "    1 : it is a recurrent nn\n",
    "    2 : both input as well as output has activation function (power)\n",
    "    3 : it is hetroassociative (number of neurons at input layer is equal to no. of neurons at output layer)\n",
    "    4 : used for pattern matching (hebbin learning rule)\n",
    "    5 : can respond to input from either of layers\n",
    "    6 : signal back and forth untill we achive equilibrium (w.r.t weights)\n",
    "    7 :"
   ]
  },
  {
   "cell_type": "markdown",
   "id": "c91dc6bd",
   "metadata": {},
   "source": [
    "The purpose of this code is to demonstrate how a BAM network can learn associations between pairs of input and output patterns and retrieve the associated output given an input pattern. In this example, the BAM network is trained with two pairs of vectors (x1 and y1, x2 and y2), and then tested with a new input vector (x_test). The output vector (y_test) obtained from the BAM network represents the recalled output pattern associated with the input pattern. This demonstrates the bidirectional associative memory capability of the network."
   ]
  },
  {
   "cell_type": "code",
   "execution_count": null,
   "id": "3e921294",
   "metadata": {},
   "outputs": [],
   "source": []
  }
 ],
 "metadata": {
  "kernelspec": {
   "display_name": "Python 3 (ipykernel)",
   "language": "python",
   "name": "python3"
  },
  "language_info": {
   "codemirror_mode": {
    "name": "ipython",
    "version": 3
   },
   "file_extension": ".py",
   "mimetype": "text/x-python",
   "name": "python",
   "nbconvert_exporter": "python",
   "pygments_lexer": "ipython3",
   "version": "3.11.4"
  }
 },
 "nbformat": 4,
 "nbformat_minor": 5
}
