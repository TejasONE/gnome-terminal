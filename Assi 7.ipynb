{
 "cells": [
  {
   "cell_type": "code",
   "execution_count": null,
   "id": "8444cc9f",
   "metadata": {},
   "outputs": [],
   "source": [
    "#"
   ]
  },
  {
   "cell_type": "code",
   "execution_count": 2,
   "id": "7e3df8f8",
   "metadata": {},
   "outputs": [],
   "source": [
    "import numpy as np"
   ]
  },
  {
   "cell_type": "code",
   "execution_count": 3,
   "id": "170731c1",
   "metadata": {},
   "outputs": [],
   "source": [
    "class ARTNetwork:\n",
    "    \n",
    "    def __init__(self, input_size, vigilance):\n",
    "        self.input_size = input_size\n",
    "        self.vigilance = vigilance\n",
    "        self.weights = np.zeros((input_size,1))\n",
    "        \n",
    "    def train(self, input_data,epochs):\n",
    "        normalized_input = input_data / np.linalg.norm(input_data)   #It normalizes the input data by dividing it by its L2 norm using np.linalg.norm\n",
    "        for _ in range(epochs):\n",
    "            similarity = normalized_input @ self.weights\n",
    "            if similarity.any() >= self.vigilance:\n",
    "                return\n",
    "            self.weights = np.maximum(self.weights, normalized_input)\n",
    "            normalized_input = self.weights / np.linalg.norm(self.weights)\n",
    "    \n",
    "    def predict(self, input_data):\n",
    "        normalized_input = input_data / np.linalg.norm(input_data)\n",
    "        similarity = normalized_input @ self.weights\n",
    "        if similarity.any() >= self.vigilance:\n",
    "            output_pattern = np.zeros(len(similarity))\n",
    "            print(similarity)\n",
    "            winner = np.argmax(similarity)\n",
    "            output_pattern[winner] = 1\n",
    "        else:\n",
    "            output_pattern = np.zeros(len(similarity) + 1)\n",
    "            output_pattern[-1] = 1\n",
    "        return output_pattern"
   ]
  },
  {
   "cell_type": "code",
   "execution_count": 4,
   "id": "da299377",
   "metadata": {},
   "outputs": [],
   "source": [
    "# Usage example\n",
    "input_size = 4\n",
    "vigilance = 0.9\n",
    "art = ARTNetwork(input_size, vigilance)"
   ]
  },
  {
   "cell_type": "code",
   "execution_count": 5,
   "id": "d6ac650d",
   "metadata": {},
   "outputs": [
    {
     "name": "stdout",
     "output_type": "stream",
     "text": [
      "[-0.70710678 -0.70710678  0.          0.        ]\n",
      "[0. 0. 1. 0.]\n"
     ]
    }
   ],
   "source": [
    "# Training data\n",
    "data = np.array([[1, 1, 0, 0],\n",
    "                 [0, 0, 1, 1],\n",
    "                 [0, 1, 0, 1],                     \n",
    "                 [1, 0, 1, 0]])\n",
    "\n",
    "# Train the ART network\n",
    "for sample in data:\n",
    "    art.train(sample,1000)\n",
    "\n",
    "# Test a new input\n",
    "new_input = np.array([0, -1, 0, 0])\n",
    "new_output = art.predict(new_input)\n",
    "print(new_output)"
   ]
  },
  {
   "cell_type": "code",
   "execution_count": null,
   "id": "fed32280",
   "metadata": {},
   "outputs": [],
   "source": []
  },
  {
   "cell_type": "code",
   "execution_count": null,
   "id": "3c6c58c5",
   "metadata": {},
   "outputs": [],
   "source": []
  },
  {
   "cell_type": "code",
   "execution_count": 6,
   "id": "3286b4a7",
   "metadata": {},
   "outputs": [
    {
     "name": "stdout",
     "output_type": "stream",
     "text": [
      "[0. 0. 0. 0. 1.]\n"
     ]
    }
   ],
   "source": [
    "import numpy as np\n",
    "\n",
    "class ARTNetwork:\n",
    "    def __init__(self, input_size, vigilance):\n",
    "        # Initialize ART network parameters\n",
    "        self.input_size = input_size\n",
    "        self.vigilance = vigilance\n",
    "        self.weights = np.zeros((input_size, 1))\n",
    "\n",
    "    def train(self, input_data, epochs):\n",
    "        # Train the ART network\n",
    "        # Normalize input data\n",
    "        normalized_input = input_data / np.linalg.norm(input_data)\n",
    "        for _ in range(epochs):\n",
    "\n",
    "            similarity = normalized_input @ self.weights            # Compute similarity between input and weights\n",
    "\n",
    "            if np.any(similarity >= self.vigilance):          # Check if similarity meets vigilance criterion\n",
    "                return\n",
    "\n",
    "            self.weights = np.maximum(self.weights, normalized_input)            # Update weights\n",
    "\n",
    "            normalized_input = self.weights / np.linalg.norm(self.weights)            # Normalize weights\n",
    "\n",
    "    def predict(self, input_data):\n",
    "        # Predict using the trained ART network\n",
    "        # Normalize input data\n",
    "        normalized_input = input_data / np.linalg.norm(input_data)\n",
    "\n",
    "        similarity = normalized_input @ self.weights        # Compute similarity between input and weights\n",
    "        if np.any(similarity >= self.vigilance):\n",
    "            # If similarity meets vigilance criterion, select winner neuron\n",
    "            output_pattern = np.zeros(len(similarity))\n",
    "            winner = np.argmax(similarity)\n",
    "            output_pattern[winner] = 1\n",
    "        else:\n",
    "            # If no winner, create a new output pattern\n",
    "            output_pattern = np.zeros(len(similarity) + 1)\n",
    "            output_pattern[-1] = 1\n",
    "        return output_pattern\n",
    "\n",
    "# Usage example\n",
    "input_size = 4\n",
    "vigilance = 0.9\n",
    "art = ARTNetwork(input_size, vigilance)\n",
    "\n",
    "# Training data\n",
    "data = np.array([[1, 1, 0, 0],\n",
    "                 [0, 0, 1, 1],\n",
    "                 [0, 1, 0, 1],                     \n",
    "                 [1, 0, 1, 0]])\n",
    "\n",
    "# Train the ART network\n",
    "for sample in data:\n",
    "    art.train(sample, 1000)\n",
    "\n",
    "# Test a new input\n",
    "new_input = np.array([0, -1, 0, 0])\n",
    "new_output = art.predict(new_input)\n",
    "print(new_output)\n"
   ]
  },
  {
   "cell_type": "code",
   "execution_count": null,
   "id": "4b80a0db",
   "metadata": {},
   "outputs": [],
   "source": []
  }
 ],
 "metadata": {
  "kernelspec": {
   "display_name": "Python 3 (ipykernel)",
   "language": "python",
   "name": "python3"
  },
  "language_info": {
   "codemirror_mode": {
    "name": "ipython",
    "version": 3
   },
   "file_extension": ".py",
   "mimetype": "text/x-python",
   "name": "python",
   "nbconvert_exporter": "python",
   "pygments_lexer": "ipython3",
   "version": "3.11.4"
  }
 },
 "nbformat": 4,
 "nbformat_minor": 5
}
