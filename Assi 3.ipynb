{
 "cells": [
  {
   "cell_type": "code",
   "execution_count": 1,
   "id": "05c4e611",
   "metadata": {},
   "outputs": [],
   "source": [
    "# 3. Write a Python Program using Perceptron Neural Network to recognise even and odd numbers.\n",
    "# Given numbers are in ASCII form 0 to 9"
   ]
  },
  {
   "cell_type": "code",
   "execution_count": 2,
   "id": "731bd9cb",
   "metadata": {},
   "outputs": [],
   "source": [
    "import numpy as np"
   ]
  },
  {
   "cell_type": "code",
   "execution_count": 3,
   "id": "d7a78d9d",
   "metadata": {},
   "outputs": [],
   "source": [
    "input_table = np.array([\n",
    "    [0, 0, 0, 0, 0],#0\n",
    "    [0, 0, 0, 0, 1],#1\n",
    "    [0, 0, 0, 1, 0],#2\n",
    "    [0, 0, 0, 1, 1],#3\n",
    "    [0, 0, 1, 0, 0],#4\n",
    "    [0, 0, 1, 0, 1],#5\n",
    "    [0, 0, 1, 1, 0],#6\n",
    "    [0, 0, 1, 1, 1],#7\n",
    "    [0, 1, 0, 0, 0],#8\n",
    "    [0, 1, 0, 0, 1] #9\n",
    "]) #10x5\n",
    "\n",
    "#even => 0\n",
    "#odd => 1\n",
    "\n",
    "output = [0, 1, 0, 1, 0, 1, 0, 1, 0, 1]"
   ]
  },
  {
   "cell_type": "code",
   "execution_count": 4,
   "id": "1d4ee263",
   "metadata": {},
   "outputs": [],
   "source": [
    "weights = np.array([0,0,0,0,1]) #5x1"
   ]
  },
  {
   "cell_type": "code",
   "execution_count": 5,
   "id": "d4cb25f0",
   "metadata": {},
   "outputs": [
    {
     "data": {
      "text/plain": [
       "array([0, 1, 0, 1, 0, 1, 0, 1, 0, 1])"
      ]
     },
     "execution_count": 5,
     "metadata": {},
     "output_type": "execute_result"
    }
   ],
   "source": [
    "dot_product = input_table @ weights\n",
    "dot_product"
   ]
  },
  {
   "cell_type": "markdown",
   "id": "7082f3e9",
   "metadata": {},
   "source": [
    "## Mc-culloach pits"
   ]
  },
  {
   "cell_type": "code",
   "execution_count": 6,
   "id": "db74899e",
   "metadata": {},
   "outputs": [],
   "source": [
    "# Threashold value\n",
    "T = np.max(dot_product)"
   ]
  },
  {
   "cell_type": "code",
   "execution_count": 7,
   "id": "c36cbc52",
   "metadata": {},
   "outputs": [],
   "source": [
    "res = []\n",
    "for i in dot_product:\n",
    "    if i >= T:\n",
    "        res.append(1)\n",
    "    else:\n",
    "        res.append(0)"
   ]
  },
  {
   "cell_type": "code",
   "execution_count": 8,
   "id": "4e369e68",
   "metadata": {},
   "outputs": [
    {
     "data": {
      "text/plain": [
       "[0, 1, 0, 1, 0, 1, 0, 1, 0, 1]"
      ]
     },
     "execution_count": 8,
     "metadata": {},
     "output_type": "execute_result"
    }
   ],
   "source": [
    "res"
   ]
  },
  {
   "cell_type": "code",
   "execution_count": 9,
   "id": "598fff80",
   "metadata": {},
   "outputs": [
    {
     "data": {
      "text/plain": [
       "True"
      ]
     },
     "execution_count": 9,
     "metadata": {},
     "output_type": "execute_result"
    }
   ],
   "source": [
    "res==output"
   ]
  },
  {
   "cell_type": "markdown",
   "id": "dbc381cd",
   "metadata": {},
   "source": [
    "## Testing"
   ]
  },
  {
   "cell_type": "code",
   "execution_count": 10,
   "id": "48d9191d",
   "metadata": {},
   "outputs": [],
   "source": [
    "# max value 20\n",
    "def dec_to_binary(num):\n",
    "    binary = []\n",
    "    while num > 0:\n",
    "        remainder = num % 2\n",
    "        binary.append(remainder)\n",
    "        num = num // 2\n",
    "    \n",
    "    if not binary:\n",
    "        binary.append(0)\n",
    "    \n",
    "    binary.reverse()\n",
    "    \n",
    "    while len(binary) < 5:\n",
    "        binary.insert(0, 0)\n",
    "    \n",
    "    return np.array(binary)"
   ]
  },
  {
   "cell_type": "code",
   "execution_count": 11,
   "id": "770902f4",
   "metadata": {},
   "outputs": [
    {
     "data": {
      "text/plain": [
       "array([1, 0, 1, 0, 0])"
      ]
     },
     "execution_count": 11,
     "metadata": {},
     "output_type": "execute_result"
    }
   ],
   "source": [
    "test_data = dec_to_binary(20)\n",
    "test_data"
   ]
  },
  {
   "cell_type": "code",
   "execution_count": 12,
   "id": "f1745fba",
   "metadata": {},
   "outputs": [
    {
     "data": {
      "text/plain": [
       "0"
      ]
     },
     "execution_count": 12,
     "metadata": {},
     "output_type": "execute_result"
    }
   ],
   "source": [
    "res = test_data @ weights\n",
    "res"
   ]
  },
  {
   "cell_type": "code",
   "execution_count": 13,
   "id": "7f007956",
   "metadata": {},
   "outputs": [
    {
     "data": {
      "text/plain": [
       "True"
      ]
     },
     "execution_count": 13,
     "metadata": {},
     "output_type": "execute_result"
    }
   ],
   "source": [
    "res < T"
   ]
  },
  {
   "cell_type": "code",
   "execution_count": null,
   "id": "ec0d99c6",
   "metadata": {},
   "outputs": [],
   "source": []
  },
  {
   "cell_type": "code",
   "execution_count": 1,
   "id": "a3652c37",
   "metadata": {},
   "outputs": [],
   "source": [
    "import numpy as np"
   ]
  },
  {
   "cell_type": "code",
   "execution_count": 4,
   "id": "72dc963d",
   "metadata": {},
   "outputs": [],
   "source": [
    "input_table = np.array([\n",
    "    [0,0,0,0,0],\n",
    "    [0,0,0,0,1],\n",
    "    [0,0,0,1,0],\n",
    "    [0,0,0,1,1],\n",
    "    [0,0,1,0,0],\n",
    "    [0,0,1,0,1],\n",
    "    [0,0,1,1,0],\n",
    "    [0,0,1,1,1],\n",
    "    [0,1,0,0,0],\n",
    "    [0,1,0,0,1],\n",
    "])\n",
    "\n",
    "weights = np.array([0,0,0,0,1])"
   ]
  },
  {
   "cell_type": "code",
   "execution_count": 5,
   "id": "38eb956d",
   "metadata": {},
   "outputs": [],
   "source": [
    "dot_product =input_table @ weights"
   ]
  },
  {
   "cell_type": "code",
   "execution_count": 6,
   "id": "3db3ee28",
   "metadata": {},
   "outputs": [],
   "source": [
    "t = np.max(dot_product)"
   ]
  },
  {
   "cell_type": "code",
   "execution_count": null,
   "id": "1e766f04",
   "metadata": {},
   "outputs": [],
   "source": [
    "def "
   ]
  }
 ],
 "metadata": {
  "kernelspec": {
   "display_name": "Python 3 (ipykernel)",
   "language": "python",
   "name": "python3"
  },
  "language_info": {
   "codemirror_mode": {
    "name": "ipython",
    "version": 3
   },
   "file_extension": ".py",
   "mimetype": "text/x-python",
   "name": "python",
   "nbconvert_exporter": "python",
   "pygments_lexer": "ipython3",
   "version": "3.11.4"
  }
 },
 "nbformat": 4,
 "nbformat_minor": 5
}
