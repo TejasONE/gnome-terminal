{
 "cells": [
  {
   "cell_type": "code",
   "execution_count": 1,
   "id": "1c46304f",
   "metadata": {},
   "outputs": [],
   "source": [
    "# Write a suitable example to demonstrate the perceptron learning law with its decision regions\n",
    "# using python. Give the output in graphical form."
   ]
  },
  {
   "cell_type": "code",
   "execution_count": 2,
   "id": "fde168d8",
   "metadata": {},
   "outputs": [],
   "source": [
    "import numpy as np\n",
    "import matplotlib.pyplot as plt\n",
    "from sklearn.datasets import load_iris"
   ]
  },
  {
   "cell_type": "code",
   "execution_count": 3,
   "id": "9d380b9f",
   "metadata": {},
   "outputs": [
    {
     "data": {
      "text/plain": [
       "\"\\n# Accessing the feature data (X) and target data (y)\\nX = iris.data  # Features (attributes)\\ny = iris.target  # Target variable (class labels)\\n\\nprint(X[:5])  # Print first 5 rows\\nprint('\\n')\\nprint(y[:5])  # Print first 5 elements\""
      ]
     },
     "execution_count": 3,
     "metadata": {},
     "output_type": "execute_result"
    }
   ],
   "source": [
    "# Load the Iris dataset\n",
    "iris = load_iris()\n",
    "\n",
    "'''\n",
    "# Accessing the feature data (X) and target data (y)\n",
    "X = iris.data  # Features (attributes)\n",
    "y = iris.target  # Target variable (class labels)\n",
    "\n",
    "print(X[:5])  # Print first 5 rows\n",
    "print('\\n')\n",
    "print(y[:5])  # Print first 5 elements'''"
   ]
  },
  {
   "cell_type": "code",
   "execution_count": 9,
   "id": "73b8ea8b",
   "metadata": {},
   "outputs": [],
   "source": [
    "#iris"
   ]
  },
  {
   "cell_type": "code",
   "execution_count": 6,
   "id": "3fb5b851",
   "metadata": {},
   "outputs": [],
   "source": [
    "# extract sepal length and petal length features \n",
    "X = iris.data[:, [0, 2]]      # zeroth and second column\n",
    "\n",
    "y = iris.target\n",
    "\n",
    "w = np.zeros(2) #[0.0 , 0.0]  # to give weightage\n",
    "\n",
    "b = 0   # to shift the decision boundary\n",
    "\n",
    "lr = 0.1  # learning rate\n",
    "\n",
    "epochs = 50"
   ]
  },
  {
   "cell_type": "code",
   "execution_count": 19,
   "id": "19536c99",
   "metadata": {},
   "outputs": [
    {
     "data": {
      "text/plain": [
       "array([0, 0, 0, 0, 0, 0, 0, 0, 0, 0, 0, 0, 0, 0, 0, 0, 0, 0, 0, 0, 0, 0,\n",
       "       0, 0, 0, 0, 0, 0, 0, 0, 0, 0, 0, 0, 0, 0, 0, 0, 0, 0, 0, 0, 0, 0,\n",
       "       0, 0, 0, 0, 0, 0, 1, 1, 1, 1, 1, 1, 1, 1, 1, 1, 1, 1, 1, 1, 1, 1,\n",
       "       1, 1, 1, 1, 1, 1, 1, 1, 1, 1, 1, 1, 1, 1, 1, 1, 1, 1, 1, 1, 1, 1,\n",
       "       1, 1, 1, 1, 1, 1, 1, 1, 1, 1, 1, 1, 2, 2, 2, 2, 2, 2, 2, 2, 2, 2,\n",
       "       2, 2, 2, 2, 2, 2, 2, 2, 2, 2, 2, 2, 2, 2, 2, 2, 2, 2, 2, 2, 2, 2,\n",
       "       2, 2, 2, 2, 2, 2, 2, 2, 2, 2, 2, 2, 2, 2, 2, 2, 2, 2])"
      ]
     },
     "execution_count": 19,
     "metadata": {},
     "output_type": "execute_result"
    }
   ],
   "source": [
    "y"
   ]
  },
  {
   "cell_type": "code",
   "execution_count": 7,
   "id": "7fc120f0",
   "metadata": {},
   "outputs": [
    {
     "data": {
      "text/plain": [
       "array([[5.1, 1.4],\n",
       "       [4.9, 1.4],\n",
       "       [4.7, 1.3],\n",
       "       [4.6, 1.5],\n",
       "       [5. , 1.4],\n",
       "       [5.4, 1.7],\n",
       "       [4.6, 1.4],\n",
       "       [5. , 1.5],\n",
       "       [4.4, 1.4],\n",
       "       [4.9, 1.5],\n",
       "       [5.4, 1.5],\n",
       "       [4.8, 1.6],\n",
       "       [4.8, 1.4],\n",
       "       [4.3, 1.1],\n",
       "       [5.8, 1.2],\n",
       "       [5.7, 1.5],\n",
       "       [5.4, 1.3],\n",
       "       [5.1, 1.4],\n",
       "       [5.7, 1.7],\n",
       "       [5.1, 1.5],\n",
       "       [5.4, 1.7],\n",
       "       [5.1, 1.5],\n",
       "       [4.6, 1. ],\n",
       "       [5.1, 1.7],\n",
       "       [4.8, 1.9],\n",
       "       [5. , 1.6],\n",
       "       [5. , 1.6],\n",
       "       [5.2, 1.5],\n",
       "       [5.2, 1.4],\n",
       "       [4.7, 1.6],\n",
       "       [4.8, 1.6],\n",
       "       [5.4, 1.5],\n",
       "       [5.2, 1.5],\n",
       "       [5.5, 1.4],\n",
       "       [4.9, 1.5],\n",
       "       [5. , 1.2],\n",
       "       [5.5, 1.3],\n",
       "       [4.9, 1.4],\n",
       "       [4.4, 1.3],\n",
       "       [5.1, 1.5],\n",
       "       [5. , 1.3],\n",
       "       [4.5, 1.3],\n",
       "       [4.4, 1.3],\n",
       "       [5. , 1.6],\n",
       "       [5.1, 1.9],\n",
       "       [4.8, 1.4],\n",
       "       [5.1, 1.6],\n",
       "       [4.6, 1.4],\n",
       "       [5.3, 1.5],\n",
       "       [5. , 1.4],\n",
       "       [7. , 4.7],\n",
       "       [6.4, 4.5],\n",
       "       [6.9, 4.9],\n",
       "       [5.5, 4. ],\n",
       "       [6.5, 4.6],\n",
       "       [5.7, 4.5],\n",
       "       [6.3, 4.7],\n",
       "       [4.9, 3.3],\n",
       "       [6.6, 4.6],\n",
       "       [5.2, 3.9],\n",
       "       [5. , 3.5],\n",
       "       [5.9, 4.2],\n",
       "       [6. , 4. ],\n",
       "       [6.1, 4.7],\n",
       "       [5.6, 3.6],\n",
       "       [6.7, 4.4],\n",
       "       [5.6, 4.5],\n",
       "       [5.8, 4.1],\n",
       "       [6.2, 4.5],\n",
       "       [5.6, 3.9],\n",
       "       [5.9, 4.8],\n",
       "       [6.1, 4. ],\n",
       "       [6.3, 4.9],\n",
       "       [6.1, 4.7],\n",
       "       [6.4, 4.3],\n",
       "       [6.6, 4.4],\n",
       "       [6.8, 4.8],\n",
       "       [6.7, 5. ],\n",
       "       [6. , 4.5],\n",
       "       [5.7, 3.5],\n",
       "       [5.5, 3.8],\n",
       "       [5.5, 3.7],\n",
       "       [5.8, 3.9],\n",
       "       [6. , 5.1],\n",
       "       [5.4, 4.5],\n",
       "       [6. , 4.5],\n",
       "       [6.7, 4.7],\n",
       "       [6.3, 4.4],\n",
       "       [5.6, 4.1],\n",
       "       [5.5, 4. ],\n",
       "       [5.5, 4.4],\n",
       "       [6.1, 4.6],\n",
       "       [5.8, 4. ],\n",
       "       [5. , 3.3],\n",
       "       [5.6, 4.2],\n",
       "       [5.7, 4.2],\n",
       "       [5.7, 4.2],\n",
       "       [6.2, 4.3],\n",
       "       [5.1, 3. ],\n",
       "       [5.7, 4.1],\n",
       "       [6.3, 6. ],\n",
       "       [5.8, 5.1],\n",
       "       [7.1, 5.9],\n",
       "       [6.3, 5.6],\n",
       "       [6.5, 5.8],\n",
       "       [7.6, 6.6],\n",
       "       [4.9, 4.5],\n",
       "       [7.3, 6.3],\n",
       "       [6.7, 5.8],\n",
       "       [7.2, 6.1],\n",
       "       [6.5, 5.1],\n",
       "       [6.4, 5.3],\n",
       "       [6.8, 5.5],\n",
       "       [5.7, 5. ],\n",
       "       [5.8, 5.1],\n",
       "       [6.4, 5.3],\n",
       "       [6.5, 5.5],\n",
       "       [7.7, 6.7],\n",
       "       [7.7, 6.9],\n",
       "       [6. , 5. ],\n",
       "       [6.9, 5.7],\n",
       "       [5.6, 4.9],\n",
       "       [7.7, 6.7],\n",
       "       [6.3, 4.9],\n",
       "       [6.7, 5.7],\n",
       "       [7.2, 6. ],\n",
       "       [6.2, 4.8],\n",
       "       [6.1, 4.9],\n",
       "       [6.4, 5.6],\n",
       "       [7.2, 5.8],\n",
       "       [7.4, 6.1],\n",
       "       [7.9, 6.4],\n",
       "       [6.4, 5.6],\n",
       "       [6.3, 5.1],\n",
       "       [6.1, 5.6],\n",
       "       [7.7, 6.1],\n",
       "       [6.3, 5.6],\n",
       "       [6.4, 5.5],\n",
       "       [6. , 4.8],\n",
       "       [6.9, 5.4],\n",
       "       [6.7, 5.6],\n",
       "       [6.9, 5.1],\n",
       "       [5.8, 5.1],\n",
       "       [6.8, 5.9],\n",
       "       [6.7, 5.7],\n",
       "       [6.7, 5.2],\n",
       "       [6.3, 5. ],\n",
       "       [6.5, 5.2],\n",
       "       [6.2, 5.4],\n",
       "       [5.9, 5.1]])"
      ]
     },
     "execution_count": 7,
     "metadata": {},
     "output_type": "execute_result"
    }
   ],
   "source": [
    "X"
   ]
  },
  {
   "cell_type": "code",
   "execution_count": 10,
   "id": "5a6e922f",
   "metadata": {},
   "outputs": [
    {
     "data": {
      "text/plain": [
       "'\\nnp.where(condition, x, y)\\ncondition: This is a boolean array or a condition that specifies the condition to be checked.\\nx: This is the value to be returned where the condition is True.\\ny: This is the value to be returned where the condition is False.\\n'"
      ]
     },
     "execution_count": 10,
     "metadata": {},
     "output_type": "execute_result"
    }
   ],
   "source": [
    "#setosa is class 0, versicolor is class 1 \n",
    "y = np.where(y == 0, 0, 1)\n",
    "\n",
    "'''\n",
    "np.where(condition, x, y)\n",
    "condition: This is a boolean array or a condition that specifies the condition to be checked.\n",
    "x: This is the value to be returned where the condition is True.\n",
    "y: This is the value to be returned where the condition is False.\n",
    "'''"
   ]
  },
  {
   "cell_type": "code",
   "execution_count": 11,
   "id": "54b095ab",
   "metadata": {},
   "outputs": [
    {
     "data": {
      "text/plain": [
       "array([0, 0, 0, 0, 0, 0, 0, 0, 0, 0, 0, 0, 0, 0, 0, 0, 0, 0, 0, 0, 0, 0,\n",
       "       0, 0, 0, 0, 0, 0, 0, 0, 0, 0, 0, 0, 0, 0, 0, 0, 0, 0, 0, 0, 0, 0,\n",
       "       0, 0, 0, 0, 0, 0, 1, 1, 1, 1, 1, 1, 1, 1, 1, 1, 1, 1, 1, 1, 1, 1,\n",
       "       1, 1, 1, 1, 1, 1, 1, 1, 1, 1, 1, 1, 1, 1, 1, 1, 1, 1, 1, 1, 1, 1,\n",
       "       1, 1, 1, 1, 1, 1, 1, 1, 1, 1, 1, 1, 1, 1, 1, 1, 1, 1, 1, 1, 1, 1,\n",
       "       1, 1, 1, 1, 1, 1, 1, 1, 1, 1, 1, 1, 1, 1, 1, 1, 1, 1, 1, 1, 1, 1,\n",
       "       1, 1, 1, 1, 1, 1, 1, 1, 1, 1, 1, 1, 1, 1, 1, 1, 1, 1])"
      ]
     },
     "execution_count": 11,
     "metadata": {},
     "output_type": "execute_result"
    }
   ],
   "source": [
    "y"
   ]
  },
  {
   "cell_type": "code",
   "execution_count": 12,
   "id": "317cd0c7",
   "metadata": {},
   "outputs": [],
   "source": [
    "# define perceptron function \n",
    "def perceptron(x, w, b):\n",
    "    # calculate weighted sum of inputs \n",
    "    z = np.dot(x, w) + b\n",
    "    # apply step function\n",
    "    return np.where(z >= 0, 1, 0)"
   ]
  },
  {
   "cell_type": "code",
   "execution_count": 13,
   "id": "618a83c5",
   "metadata": {},
   "outputs": [
    {
     "data": {
      "text/plain": [
       "\"\\nThese two lines of code compute the output of a perceptron model for each point in a grid defined by xx and yy. Here's a brief explanation:\\n\\nnp.c_[xx.ravel(), yy.ravel()]: This concatenates the flattened versions of xx and yy arrays column-wise, creating a 2D array where each row represents a point in the grid.\\nperceptron(np.c_[xx.ravel(), yy.ravel()], w, b): This computes the output of the perceptron model for each point in the grid using the weights w and bias b. The perceptron() function likely takes the input data and computes the output using a linear activation function.\\nZ = Z.reshape(xx.shape): This reshapes the output array Z to have the same shape as the grid defined by xx. Each value in Z corresponds to the output of the perceptron model at the corresponding point in the grid.\\n\""
      ]
     },
     "execution_count": 13,
     "metadata": {},
     "output_type": "execute_result"
    }
   ],
   "source": [
    "# train the perceptron\n",
    "for epoch in range(epochs): \n",
    "    for i in range(len(X)):\n",
    "        x = X[i] \n",
    "        target = y[i]\n",
    "        output = perceptron(x, w, b) \n",
    "        error = target - output  # the algorithm assigns more weight to features that contribute more to the error.\n",
    "        w += lr * error * x  # The bias affects the decision boundary's position and allows for shifting it up or down without changing the weights.\n",
    "        b += lr * error\n",
    "\n",
    "#model train --- adjusted weights and bias \n",
    "\n",
    "# plot decision boundary\n",
    "x_min, x_max = X[:, 0].min() - 0.5, X[:, 0].max() + 0.5\n",
    "y_min, y_max = X[:, 1].min() - 0.5, X[:, 1].max() + 0.5 \n",
    "xx, yy = np.meshgrid(np.arange(x_min, x_max, 0.02), np.arange(y_min, y_max, 0.02))\n",
    "\n",
    "'''\n",
    "np.arange(x_min, x_max, 0.02) generates a 1D array of x-coordinates, starting from x_min, ending before x_max, with a step size of 0.02.\n",
    "np.arange(y_min, y_max, 0.02) generates a 1D array of y-coordinates in a similar manner.\n",
    "Then, np.meshgrid() takes these coordinate arrays and creates two 2D arrays, xx and yy, representing the x and y coordinates of each point in the grid defined by these arrays.\n",
    "'''\n",
    "\n",
    "Z = perceptron(np.c_[xx.ravel(), yy.ravel()], w, b)\n",
    "Z = Z.reshape(xx.shape)\n",
    "\n",
    "'''\n",
    "These two lines of code compute the output of a perceptron model for each point in a grid defined by xx and yy. Here's a brief explanation:\n",
    "\n",
    "np.c_[xx.ravel(), yy.ravel()]: This concatenates the flattened versions of xx and yy arrays column-wise, creating a 2D array where each row represents a point in the grid.\n",
    "perceptron(np.c_[xx.ravel(), yy.ravel()], w, b): This computes the output of the perceptron model for each point in the grid using the weights w and bias b. The perceptron() function likely takes the input data and computes the output using a linear activation function.\n",
    "Z = Z.reshape(xx.shape): This reshapes the output array Z to have the same shape as the grid defined by xx. Each value in Z corresponds to the output of the perceptron model at the corresponding point in the grid.\n",
    "'''"
   ]
  },
  {
   "cell_type": "code",
   "execution_count": 14,
   "id": "020a5632",
   "metadata": {},
   "outputs": [
    {
     "data": {
      "image/png": "[encoded data removed]",
      "text/plain": [
       "<Figure size 640x480 with 1 Axes>"
      ]
     },
     "metadata": {},
     "output_type": "display_data"
    }
   ],
   "source": [
    "#plot decision boundary\n",
    "plt.contourf(xx, yy, Z, cmap = plt.cm.Paired)      # alpha=0.2\n",
    "plt.xlabel('Sepal length')\n",
    "plt.ylabel('Petal length') \n",
    "plt.title('Perceptron decision regions') \n",
    "plt.show()"
   ]
  },
  {
   "cell_type": "code",
   "execution_count": 9,
   "id": "805dcddf",
   "metadata": {},
   "outputs": [
    {
     "data": {
      "image/png": "[encoded data removed]",
      "text/plain": [
       "<Figure size 640x480 with 1 Axes>"
      ]
     },
     "metadata": {},
     "output_type": "display_data"
    }
   ],
   "source": [
    "import numpy as np\n",
    "import matplotlib.pyplot as plt\n",
    "\n",
    "# Define small dataset\n",
    "X = np.array([[1, 2], [2, 3], [3, 1], [4, 2]])\n",
    "y = np.array([1, 1, -1, -1])  # Class labels: 1 for class 1, -1 for class 2\n",
    "\n",
    "# Initialize weights and bias\n",
    "weights = np.random.randn(2)\n",
    "bias = np.random.randn()\n",
    "\n",
    "# Perceptron learning algorithm\n",
    "learning_rate = 0.1\n",
    "epochs = 5\n",
    "\n",
    "for epoch in range(epochs):\n",
    "    for i in range(len(X)):\n",
    "        # Compute the prediction\n",
    "        prediction = np.dot(X[i], weights) + bias\n",
    "        \n",
    "        # Update weights and bias\n",
    "        if prediction * y[i] <= 0:\n",
    "            weights += learning_rate * X[i] * y[i]\n",
    "            bias += learning_rate * y[i]\n",
    "\n",
    "# Plot the data points and decision boundary\n",
    "plt.scatter(X[:, 0], X[:, 1], c=y, cmap=plt.cm.Paired, label='Data Points')\n",
    "\n",
    "# Plot the decision boundary (line)\n",
    "x_decision = np.linspace(0, 5, 100)\n",
    "y_decision = -(weights[0] * x_decision + bias) / weights[1]\n",
    "plt.plot(x_decision, y_decision, color='black', linestyle='--', label='Decision Boundary')\n",
    "\n",
    "plt.xlabel('Feature 1')\n",
    "plt.ylabel('Feature 2')\n",
    "plt.title('Perceptron Learning Algorithm')\n",
    "plt.legend()\n",
    "plt.grid(True)\n",
    "plt.show()\n"
   ]
  },
  {
   "cell_type": "code",
   "execution_count": 10,
   "id": "387f3d04",
   "metadata": {},
   "outputs": [
    {
     "data": {
      "text/plain": [
       "array([0.        , 0.05050505, 0.1010101 , 0.15151515, 0.2020202 ,\n",
       "       0.25252525, 0.3030303 , 0.35353535, 0.4040404 , 0.45454545,\n",
       "       0.50505051, 0.55555556, 0.60606061, 0.65656566, 0.70707071,\n",
       "       0.75757576, 0.80808081, 0.85858586, 0.90909091, 0.95959596,\n",
       "       1.01010101, 1.06060606, 1.11111111, 1.16161616, 1.21212121,\n",
       "       1.26262626, 1.31313131, 1.36363636, 1.41414141, 1.46464646,\n",
       "       1.51515152, 1.56565657, 1.61616162, 1.66666667, 1.71717172,\n",
       "       1.76767677, 1.81818182, 1.86868687, 1.91919192, 1.96969697,\n",
       "       2.02020202, 2.07070707, 2.12121212, 2.17171717, 2.22222222,\n",
       "       2.27272727, 2.32323232, 2.37373737, 2.42424242, 2.47474747,\n",
       "       2.52525253, 2.57575758, 2.62626263, 2.67676768, 2.72727273,\n",
       "       2.77777778, 2.82828283, 2.87878788, 2.92929293, 2.97979798,\n",
       "       3.03030303, 3.08080808, 3.13131313, 3.18181818, 3.23232323,\n",
       "       3.28282828, 3.33333333, 3.38383838, 3.43434343, 3.48484848,\n",
       "       3.53535354, 3.58585859, 3.63636364, 3.68686869, 3.73737374,\n",
       "       3.78787879, 3.83838384, 3.88888889, 3.93939394, 3.98989899,\n",
       "       4.04040404, 4.09090909, 4.14141414, 4.19191919, 4.24242424,\n",
       "       4.29292929, 4.34343434, 4.39393939, 4.44444444, 4.49494949,\n",
       "       4.54545455, 4.5959596 , 4.64646465, 4.6969697 , 4.74747475,\n",
       "       4.7979798 , 4.84848485, 4.8989899 , 4.94949495, 5.        ])"
      ]
     },
     "execution_count": 10,
     "metadata": {},
     "output_type": "execute_result"
    }
   ],
   "source": [
    "x_decision"
   ]
  },
  {
   "cell_type": "code",
   "execution_count": 11,
   "id": "b533b307",
   "metadata": {},
   "outputs": [
    {
     "data": {
      "text/plain": [
       "array([-5.29067512, -5.15542478, -5.02017443, -4.88492409, -4.74967374,\n",
       "       -4.6144234 , -4.47917306, -4.34392271, -4.20867237, -4.07342202,\n",
       "       -3.93817168, -3.80292133, -3.66767099, -3.53242064, -3.3971703 ,\n",
       "       -3.26191995, -3.12666961, -2.99141926, -2.85616892, -2.72091857,\n",
       "       -2.58566823, -2.45041789, -2.31516754, -2.1799172 , -2.04466685,\n",
       "       -1.90941651, -1.77416616, -1.63891582, -1.50366547, -1.36841513,\n",
       "       -1.23316478, -1.09791444, -0.96266409, -0.82741375, -0.69216341,\n",
       "       -0.55691306, -0.42166272, -0.28641237, -0.15116203, -0.01591168,\n",
       "        0.11933866,  0.25458901,  0.38983935,  0.5250897 ,  0.66034004,\n",
       "        0.79559039,  0.93084073,  1.06609107,  1.20134142,  1.33659176,\n",
       "        1.47184211,  1.60709245,  1.7423428 ,  1.87759314,  2.01284349,\n",
       "        2.14809383,  2.28334418,  2.41859452,  2.55384487,  2.68909521,\n",
       "        2.82434555,  2.9595959 ,  3.09484624,  3.23009659,  3.36534693,\n",
       "        3.50059728,  3.63584762,  3.77109797,  3.90634831,  4.04159866,\n",
       "        4.176849  ,  4.31209935,  4.44734969,  4.58260003,  4.71785038,\n",
       "        4.85310072,  4.98835107,  5.12360141,  5.25885176,  5.3941021 ,\n",
       "        5.52935245,  5.66460279,  5.79985314,  5.93510348,  6.07035383,\n",
       "        6.20560417,  6.34085452,  6.47610486,  6.6113552 ,  6.74660555,\n",
       "        6.88185589,  7.01710624,  7.15235658,  7.28760693,  7.42285727,\n",
       "        7.55810762,  7.69335796,  7.82860831,  7.96385865,  8.099109  ])"
      ]
     },
     "execution_count": 11,
     "metadata": {},
     "output_type": "execute_result"
    }
   ],
   "source": [
    "y_decision"
   ]
  },
  {
   "cell_type": "code",
   "execution_count": null,
   "id": "179f3be7",
   "metadata": {},
   "outputs": [],
   "source": []
  }
 ],
 "metadata": {
  "kernelspec": {
   "display_name": "Python 3 (ipykernel)",
   "language": "python",
   "name": "python3"
  },
  "language_info": {
   "codemirror_mode": {
    "name": "ipython",
    "version": 3
   },
   "file_extension": ".py",
   "mimetype": "text/x-python",
   "name": "python",
   "nbconvert_exporter": "python",
   "pygments_lexer": "ipython3",
   "version": "3.11.4"
  }
 },
 "nbformat": 4,
 "nbformat_minor": 5
}
