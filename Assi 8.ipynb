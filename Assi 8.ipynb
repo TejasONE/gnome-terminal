{
 "cells": [
  {
   "cell_type": "code",
   "execution_count": 1,
   "id": "da3379fb",
   "metadata": {
    "collapsed": true
   },
   "outputs": [],
   "source": [
    "#Write a python program to design a Hopfield Network which stores 4 vectors"
   ]
  },
  {
   "cell_type": "code",
   "execution_count": 2,
   "id": "ca3fc1d6",
   "metadata": {},
   "outputs": [],
   "source": [
    "#Hebbian Rule"
   ]
  },
  {
   "cell_type": "code",
   "execution_count": 1,
   "id": "8c0d7c9f",
   "metadata": {},
   "outputs": [
    {
     "name": "stdout",
     "output_type": "stream",
     "text": [
      "Input pattern: [ 1  1 -1 -1]\n",
      "Predicted pattern: [-1. -1. -1. -1.]\n",
      "Input pattern: [-1 -1  1  1]\n",
      "Predicted pattern: [-1. -1. -1. -1.]\n",
      "Input pattern: [ 1 -1  1 -1]\n",
      "Predicted pattern: [-1. -1. -1. -1.]\n",
      "Input pattern: [-1  1 -1  1]\n",
      "Predicted pattern: [-1. -1. -1. -1.]\n"
     ]
    }
   ],
   "source": [
    "import numpy as np \n",
    "\n",
    "class HopfieldNetwork:\n",
    "    def __init__(self, n_neurons):  # This is the constructor method of the class,\n",
    "        self.weights = np.zeros((n_neurons, n_neurons))\n",
    "\n",
    "    def train(self, patterns):\n",
    "        for pattern in patterns:\n",
    "            self.weights += np.outer(pattern, pattern) \n",
    "            np.fill_diagonal(self.weights, 0)\n",
    "\n",
    "    def predict(self, pattern):\n",
    "        energy = -0.5 * ((pattern @ self.weights) @ pattern) \n",
    "        return np.sign((pattern @ self.weights) + energy)\n",
    "\n",
    "patterns = np.array([\n",
    "    [1, 1, -1, -1],\n",
    "    [-1, -1, 1, 1],\n",
    "    [1, -1, 1, -1],\n",
    "    [-1, 1, -1, 1]\n",
    "])\n",
    "\n",
    "n_neurons = 4\n",
    "network = HopfieldNetwork(n_neurons) \n",
    "network.train(patterns)        # it network.\n",
    "\n",
    "for pattern in patterns:\n",
    "    prediction = network.predict(pattern)      # it network.\n",
    "    print('Input pattern:', pattern) \n",
    "    print('Predicted pattern:', prediction)\n",
    "\n"
   ]
  },
  {
   "cell_type": "code",
   "execution_count": null,
   "id": "003c6048",
   "metadata": {},
   "outputs": [],
   "source": []
  },
  {
   "cell_type": "code",
   "execution_count": 16,
   "id": "2f36a3ff",
   "metadata": {},
   "outputs": [],
   "source": [
    "import numpy as np"
   ]
  },
  {
   "cell_type": "code",
   "execution_count": 20,
   "id": "1a8804b6",
   "metadata": {},
   "outputs": [
    {
     "ename": "SyntaxError",
     "evalue": "incomplete input (4071693821.py, line 20)",
     "output_type": "error",
     "traceback": [
      "\u001b[1;36m  Cell \u001b[1;32mIn[20], line 20\u001b[1;36m\u001b[0m\n\u001b[1;33m    \u001b[0m\n\u001b[1;37m    ^\u001b[0m\n\u001b[1;31mSyntaxError\u001b[0m\u001b[1;31m:\u001b[0m incomplete input\n"
     ]
    }
   ],
   "source": [
    "patterns = np.array([\n",
    "    [1, 1, -1, -1],\n",
    "    [-1, -1, 1, 1],\n",
    "    [1, -1, 1, -1],\n",
    "    [-1, 1, -1, 1]\n",
    "])\n",
    "\n",
    "n_neurons = 4\n",
    "\n",
    "op = HopefieldNetwork(n_neurons)\n",
    "op.train(patterns)\n",
    "\n",
    "\n",
    "class HopfieldNetwork():\n",
    "    def __init__(self,n_neurons):\n",
    "        self.weights = np.zeros((n_neurons, n_neurons))\n",
    "        \n",
    "    def train(self,patterns):\n",
    "        for pattern in patterns:\n",
    "            self.weight = "
   ]
  },
  {
   "cell_type": "code",
   "execution_count": null,
   "id": "dd1cdfef",
   "metadata": {},
   "outputs": [],
   "source": [
    "\n"
   ]
  }
 ],
 "metadata": {
  "kernelspec": {
   "display_name": "Python 3 (ipykernel)",
   "language": "python",
   "name": "python3"
  },
  "language_info": {
   "codemirror_mode": {
    "name": "ipython",
    "version": 3
   },
   "file_extension": ".py",
   "mimetype": "text/x-python",
   "name": "python",
   "nbconvert_exporter": "python",
   "pygments_lexer": "ipython3",
   "version": "3.11.4"
  }
 },
 "nbformat": 4,
 "nbformat_minor": 5
}
